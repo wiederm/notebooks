{
 "cells": [
  {
   "cell_type": "code",
   "execution_count": null,
   "metadata": {},
   "outputs": [],
   "source": [
    "# general imports\n",
    "import numpy as np  \n",
    "import torch\n",
    "import matplotlib.pyplot as plt\n",
    "import seaborn as sns\n",
    "from pymbar import BAR\n",
    "\n",
    "# Imports from the openff toolkit\n",
    "from openff.toolkit.topology import Molecule\n",
    "import torch\n",
    "from openmm import unit\n",
    "\n",
    "from neq_functions import neq_from_mm_to_ani, neq_from_ani_to_mm\n",
    "\n",
    "platform = 'cuda'\n",
    "num_threads = 2\n",
    "\n",
    "torch.set_num_threads(num_threads)\n"
   ]
  },
  {
   "cell_type": "code",
   "execution_count": null,
   "metadata": {},
   "outputs": [],
   "source": [
    "# define simulation constants\n",
    "time_unit = unit.femtoseconds\n",
    "energy_unit = unit.kilojoule_per_mole\n",
    "nr_of_switches=50\n",
    "n_samples=200\n",
    "n_steps_per_sample = 2_000\n",
    "switching_length = 5_001"
   ]
  },
  {
   "cell_type": "code",
   "execution_count": null,
   "metadata": {},
   "outputs": [],
   "source": [
    "# generate a molecule using openff\n",
    "molecule = Molecule.from_smiles('CC(C(C)=O)C(C)=O', hydrogens_are_explicit=False)\n",
    "molecule.generate_conformers()"
   ]
  },
  {
   "cell_type": "code",
   "execution_count": null,
   "metadata": {},
   "outputs": [],
   "source": [
    "logavgsumexp_ani_to_mm, stddev_w_ani_to_mm, w_list_ani_to_mm = neq_from_ani_to_mm(molecule, \n",
    "                                                                                  n_samples=n_samples, \n",
    "                                                                                  n_steps_per_sample=n_steps_per_sample,\n",
    "                                                                                  nr_of_switches=nr_of_switches,\n",
    "                                                                                  switching_length=switching_length,\n",
    "                                                                                  save_samples='data_for_neq/samples_for_ani.pickle')\n"
   ]
  },
  {
   "cell_type": "code",
   "execution_count": null,
   "metadata": {},
   "outputs": [],
   "source": [
    "logavgsumexp_mm_to_ani, stddev_w_mm_to_ani, w_list_mm_to_ani = neq_from_mm_to_ani(molecule, \n",
    "                                                                                  n_samples=n_samples, \n",
    "                                                                                  n_steps_per_sample=n_steps_per_sample,\n",
    "                                                                                  nr_of_switches=nr_of_switches,\n",
    "                                                                                  switching_length=switching_length)"
   ]
  },
  {
   "cell_type": "code",
   "execution_count": null,
   "metadata": {},
   "outputs": [],
   "source": [
    "plt.hist(w_list_mm_to_ani - np.average(w_list_mm_to_ani))\n",
    "plt.hist(w_list_ani_to_mm + np.average(w_list_mm_to_ani))\n",
    "plt.show()\n"
   ]
  },
  {
   "cell_type": "code",
   "execution_count": null,
   "metadata": {},
   "outputs": [],
   "source": [
    "BAR(np.array(w_list_ani_to_mm), np.array(w_list_mm_to_ani))"
   ]
  },
  {
   "cell_type": "code",
   "execution_count": null,
   "metadata": {},
   "outputs": [],
   "source": [
    "from neq_functions import collect_samples_ani, collect_samples_mm, save_traj, create_mm_sim\n",
    "\n",
    "ani_samples = collect_samples_ani(molecule, n_samples=100, n_steps_per_sample=100)\n",
    "mm_samples = collect_samples_mm(None, sim=create_mm_sim(molecule), n_samples=100, n_steps_per_sample=100)\n",
    "\n",
    "save_traj(ani_samples, molecule, name='ani_samples.dcd')\n",
    "save_traj(mm_samples, molecule, name='mm_samples.dcd')"
   ]
  },
  {
   "cell_type": "code",
   "execution_count": null,
   "metadata": {},
   "outputs": [],
   "source": []
  }
 ],
 "metadata": {
  "interpreter": {
   "hash": "5d5fbc55c5c98744c7db55e25ae0020e14cbbbc3e9aa28d464c2729b7821e478"
  },
  "kernelspec": {
   "display_name": "Python 3.9.11 ('reweighting')",
   "language": "python",
   "name": "python3"
  },
  "language_info": {
   "codemirror_mode": {
    "name": "ipython",
    "version": 3
   },
   "file_extension": ".py",
   "mimetype": "text/x-python",
   "name": "python",
   "nbconvert_exporter": "python",
   "pygments_lexer": "ipython3",
   "version": "3.9.12"
  },
  "orig_nbformat": 4
 },
 "nbformat": 4,
 "nbformat_minor": 2
}
