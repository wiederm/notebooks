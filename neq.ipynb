{
 "cells": [
  {
   "cell_type": "code",
   "execution_count": 1,
   "metadata": {},
   "outputs": [
    {
     "name": "stderr",
     "output_type": "stream",
     "text": [
      "Warning: Unable to load toolkit 'OpenEye Toolkit'. The Open Force Field Toolkit does not require the OpenEye Toolkits, and can use RDKit/AmberTools instead. However, if you have a valid license for the OpenEye Toolkits, consider installing them for faster performance and additional file format support: https://docs.eyesopen.com/toolkits/python/quickstart-python/linuxosx.html OpenEye offers free Toolkit licenses for academics: https://www.eyesopen.com/academic-licensing\n"
     ]
    }
   ],
   "source": [
    "# general imports\n",
    "import numpy as np  \n",
    "import torch\n",
    "import pickle\n",
    "\n",
    "# Imports from the openff toolkit\n",
    "from openff.toolkit.topology import Molecule\n",
    "import torch\n",
    "from openmm import unit\n",
    "\n",
    "from neq_functions import neq_from_mm_to_ani, neq_from_ani_to_mm\n",
    "\n",
    "platform = 'cuda'\n",
    "num_threads = 2\n",
    "\n",
    "torch.set_num_threads(num_threads)\n"
   ]
  },
  {
   "cell_type": "code",
   "execution_count": null,
   "metadata": {},
   "outputs": [],
   "source": [
    "# define simulation constants\n",
    "time_unit = unit.femtoseconds\n",
    "energy_unit = unit.kilojoule_per_mole\n",
    "nr_of_switches=50\n",
    "n_samples=100\n",
    "n_steps_per_sample = 1_000\n",
    "switching_length = 5_001"
   ]
  },
  {
   "cell_type": "code",
   "execution_count": null,
   "metadata": {},
   "outputs": [],
   "source": [
    "# generate a molecule using openff\n",
    "molecule = Molecule.from_smiles('CC(C(C)=O)C(C)=O', hydrogens_are_explicit=False)\n",
    "molecule.generate_conformers()"
   ]
  },
  {
   "cell_type": "code",
   "execution_count": null,
   "metadata": {},
   "outputs": [],
   "source": [
    "logavgsumexp_ani_to_mm, stddev_w_ani_to_mm, w_list_ani_to_mm = neq_from_ani_to_mm(molecule, \n",
    "                                                                                  n_samples=n_samples, \n",
    "                                                                                  n_steps_per_sample=n_steps_per_sample,\n",
    "                                                                                  nr_of_switches=nr_of_switches,\n",
    "                                                                                  switching_length=switching_length,\n",
    "                                                                                  debug=True, \n",
    "                                                                                  save_samples='data_for_neq/')\n"
   ]
  },
  {
   "cell_type": "code",
   "execution_count": null,
   "metadata": {},
   "outputs": [],
   "source": [
    "logavgsumexp_mm_to_ani, stddev_w_mm_to_ani, w_list_mm_to_ani = neq_from_mm_to_ani(molecule, \n",
    "                                                                                  n_samples=n_samples, \n",
    "                                                                                  n_steps_per_sample=n_steps_per_sample,\n",
    "                                                                                  nr_of_switches=nr_of_switches,\n",
    "                                                                                  switching_length=switching_length)\n"
   ]
  },
  {
   "cell_type": "code",
   "execution_count": null,
   "metadata": {},
   "outputs": [],
   "source": [
    "ani_samples = collect_samples_ani(molecule, n_samples=100, n_steps_per_sample=100)\n",
    "mm_samples = collect_samples_mm(None, sim=create_mm_sim(molecule), n_samples=100, n_steps_per_sample=100)"
   ]
  },
  {
   "cell_type": "code",
   "execution_count": null,
   "metadata": {},
   "outputs": [],
   "source": [
    "save_traj(ani_samples, molecule, name='ani_samples.dcd')\n",
    "save_traj(mm_samples, molecule, name='mm_samples.dcd')"
   ]
  }
 ],
 "metadata": {
  "interpreter": {
   "hash": "5d5fbc55c5c98744c7db55e25ae0020e14cbbbc3e9aa28d464c2729b7821e478"
  },
  "kernelspec": {
   "display_name": "Python 3.9.11 ('reweighting')",
   "language": "python",
   "name": "python3"
  },
  "language_info": {
   "codemirror_mode": {
    "name": "ipython",
    "version": 3
   },
   "file_extension": ".py",
   "mimetype": "text/x-python",
   "name": "python",
   "nbconvert_exporter": "python",
   "pygments_lexer": "ipython3",
   "version": "3.9.12"
  },
  "orig_nbformat": 4
 },
 "nbformat": 4,
 "nbformat_minor": 2
}
