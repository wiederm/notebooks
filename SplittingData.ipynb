{
  "nbformat": 4,
  "nbformat_minor": 0,
  "metadata": {
    "colab": {
      "provenance": [],
      "authorship_tag": "ABX9TyO9sR99/paT/pfB3QCkAbB2",
      "include_colab_link": true
    },
    "kernelspec": {
      "name": "python3",
      "display_name": "Python 3"
    },
    "language_info": {
      "name": "python"
    }
  },
  "cells": [
    {
      "cell_type": "markdown",
      "metadata": {
        "id": "view-in-github",
        "colab_type": "text"
      },
      "source": [
        "<a href=\"https://colab.research.google.com/github/wiederm/notebooks/blob/main/SplittingData.ipynb\" target=\"_parent\"><img src=\"https://colab.research.google.com/assets/colab-badge.svg\" alt=\"Open In Colab\"/></a>"
      ]
    },
    {
      "cell_type": "code",
      "execution_count": null,
      "metadata": {
        "colab": {
          "base_uri": "https://localhost:8080/"
        },
        "id": "x8y9snzOGXcC",
        "outputId": "c32c5568-32c6-4d29-de23-c6a5e857c138"
      },
      "outputs": [
        {
          "output_type": "stream",
          "name": "stdout",
          "text": [
            "Number of training set: 504 and test&validation set: 126\n",
            "Number of training set: 504, validation set: 63  and test set: 63\n"
          ]
        }
      ],
      "source": [
        "from sklearn.model_selection import train_test_split\n",
        "import numpy as np\n",
        "\n",
        "# generate random samples\n",
        "total_number_of_samples = 502+63+65\n",
        "x_mu, x_sigma = 10.0, 1.5\n",
        "samples_drawn = np.random.normal(x_mu, x_sigma, total_number_of_samples)\n",
        "\n",
        "# split samples first in training __and__ validation&test set\n",
        "training_set, test_validation_set_set = train_test_split(samples_drawn, test_size=0.2)\n",
        "print(f'Number of training set: {len(training_set)} and test&validation set: {len(test_validation_set_set)}')\n",
        "\n",
        "# subsequently split validation&test set\n",
        "test_set, validation_set = train_test_split(test_validation_set_set, test_size=0.5)\n",
        "print(f'Number of training set: {len(training_set)}, validation set: {len(validation_set)}  and test set: {len(test_set)}')"
      ]
    },
    {
      "cell_type": "code",
      "source": [
        "# code taken from https://github.com/jenniening/DTNN_7ib/blob/8234c77059e46f24e9c3abf303e1bd28e8dd7860/src/data/Prepare_QM9_MMFF.py\n",
        "\n",
        "### total data index ###\n",
        "data_id_list = [i for i in range(1,total_number_of_samples + 1)]\n",
        "### get partion for each type of data ###\n",
        "partition = dict()\n",
        "partition['train'],partition['validation'],partition['test_live'] = 504,63,63\n",
        "[tran,valn,testln] = [partition[i] for i in [\"train\",\"validation\",\"test_live\"]]\n",
        "### whether or not to use random seed\n",
        "np.random.shuffle(data_id_list)\n",
        "train_id = data_id_list[:tran]\n",
        "val_id = data_id_list[tran:tran + valn]\n",
        "test_live_id = data_id_list[tran + valn:tran + valn + testln]\n",
        "test_id = data_id_list[tran + valn + testln:]\n",
        "\n",
        "print(f'Number of training set: {len(train_id)}, validation set: {len(val_id)}  and test set: {len(test_live_id)}')"
      ],
      "metadata": {
        "colab": {
          "base_uri": "https://localhost:8080/"
        },
        "id": "MPhjN-SbN2QC",
        "outputId": "d91c247a-8114-4ace-f535-b257f8301c5b"
      },
      "execution_count": null,
      "outputs": [
        {
          "output_type": "stream",
          "name": "stdout",
          "text": [
            "Number of training set: 504, validation set: 63  and test set: 63\n"
          ]
        }
      ]
    },
    {
      "cell_type": "code",
      "source": [],
      "metadata": {
        "id": "B5L2xBH3OdHR"
      },
      "execution_count": null,
      "outputs": []
    },
    {
      "cell_type": "code",
      "source": [],
      "metadata": {
        "id": "FCiLBP07G45a"
      },
      "execution_count": null,
      "outputs": []
    }
  ]
}