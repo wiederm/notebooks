{
  "nbformat": 4,
  "nbformat_minor": 0,
  "metadata": {
    "colab": {
      "name": "UmbrellaPMF.ipynb",
      "provenance": [],
      "collapsed_sections": [],
      "authorship_tag": "ABX9TyNaDKCIIFoEARpzVwZX2YKu",
      "include_colab_link": true
    },
    "kernelspec": {
      "name": "python3",
      "display_name": "Python 3"
    },
    "language_info": {
      "name": "python"
    }
  },
  "cells": [
    {
      "cell_type": "markdown",
      "metadata": {
        "id": "view-in-github",
        "colab_type": "text"
      },
      "source": [
        "<a href=\"https://colab.research.google.com/github/wiederm/notebooks/blob/main/UmbrellaPMF.ipynb\" target=\"_parent\"><img src=\"https://colab.research.google.com/assets/colab-badge.svg\" alt=\"Open In Colab\"/></a>"
      ]
    },
    {
      "cell_type": "code",
      "execution_count": null,
      "metadata": {
        "id": "fVI0ewGiG6jP"
      },
      "outputs": [],
      "source": [
        "!pip install -q condacolab\n",
        "import condacolab\n",
        "condacolab.install()"
      ]
    },
    {
      "cell_type": "code",
      "source": [
        "# check that everything works\n",
        "import condacolab\n",
        "condacolab.check()"
      ],
      "metadata": {
        "id": "3lSQwuIrHMhw"
      },
      "execution_count": null,
      "outputs": []
    },
    {
      "cell_type": "code",
      "source": [
        "# install packages\n",
        "!mamba install -c conda-forge matplotlib pymbar openmm plotly > /dev/null\n",
        "# cloning data repo\n",
        "!git clone https://github.com/wiederm/notebooks.git"
      ],
      "metadata": {
        "id": "NSf0Kwb3I5eG"
      },
      "execution_count": null,
      "outputs": []
    },
    {
      "cell_type": "code",
      "source": [
        "# importing all packages\n",
        "import numpy as np\n",
        "import pymbar\n",
        "import glob\n",
        "from openmm import unit"
      ],
      "metadata": {
        "id": "YPqjSs-qHfeF"
      },
      "execution_count": null,
      "outputs": []
    },
    {
      "cell_type": "code",
      "source": [
        "# loading data and initialize variables\n",
        "# get number of umbrealla windows\n",
        "data_path = 'notebooks/data_for_pmf'\n",
        "K = len(glob.glob(f'{data_path}/traj*.npy'))\n",
        "number_of_frames = 500\n",
        "print(f'Nr of windows: {K}') # number of umbrellas\n",
        "\n",
        "# initialize N_k, in which N_k[k] which is the number of snapshots from umbrella simulation k\n",
        "N_k = np.zeros([K], dtype=np.int32)\n",
        "# initialize restrain_k, in which restraint_k[k] is the restraint center location for umbrella k\n",
        "restraint_k = np.zeros([K, 3])\n",
        "# initialize com_for_all_frames, in which com_for_all_frames[k] are all center of masses from umbrella simulation k\n",
        "com_for_all_frames = np.zeros((K, number_of_frames,3), dtype=np.float64)\n",
        "# number of total samples from all umbrella simulations\n",
        "N_tot_sampes=0\n",
        "# initialize bin_kn, for each umbrella simulation k each frame is assigned a bin\n",
        "bin_kn = np.zeros([K,number_of_frames], np.int32)\n",
        "\n",
        "\n",
        "# Read in umbrella and centers and fill restraint_k\n",
        "with open(f'{data_path}/coordinates.dat', 'r') as f:\n",
        "    lines = f.readlines()\n",
        "    for k in range(K):\n",
        "        # Parse line k.\n",
        "        line = lines[k+1]\n",
        "        tokens = line.split(',')\n",
        "        restraint_k[k] = float(tokens[1]), float(tokens[2]), float(tokens[3]) # spring center locatiomn (in nm)\n",
        "\n",
        "# initialize u_kln which is the energy of snapshot n from umbrella simulation k evaluated at umbrella l\n",
        "u_kln = np.zeros([K,K,number_of_frames], np.float64) "
      ],
      "metadata": {
        "id": "yAXSMsIQMZiu"
      },
      "execution_count": null,
      "outputs": []
    },
    {
      "cell_type": "code",
      "source": [
        "# load the masses for the system\n",
        "mass_list = np.load(open(f'notebooks/data_for_pmf/mass.npy', 'rb'))\n",
        "scaled_masses = mass_list / mass_list.sum()\n",
        "# fill com_for_all_frames, N_k, and N_tot_sampes\n",
        "print('Calculate COM ...')\n",
        "for k in range(K):\n",
        "    trajectory = np.load(open(f'notebooks/data_for_pmf/traj_{k}.npy', 'rb'))\n",
        "    for frame in range(len(trajectory)):\n",
        "        # extract ligand coordinates\n",
        "        ligand_coordinates = trajectory[frame]\n",
        "        # calculate COM\n",
        "        com_for_all_frames[k,frame] = np.matmul(ligand_coordinates.T, scaled_masses)\n",
        "    N_k[k] = number_of_frames\n",
        "    N_tot_sampes += number_of_frames\n"
      ],
      "metadata": {
        "id": "qJCa5EmgcOPu"
      },
      "execution_count": null,
      "outputs": []
    },
    {
      "cell_type": "code",
      "source": [
        "# plot the umbrella centers\n",
        "import plotly.express as px\n",
        "fig = px.scatter_3d(x=list(restraint_k[:, [0]].flatten()),y=list(restraint_k[:, [1]].flatten()), z=list(restraint_k[:, [2]].flatten()), size=[0.5]*len(restraint_k))\n",
        "              #color='species')\n",
        "fig.show()\n"
      ],
      "metadata": {
        "id": "KHOhqHe1Qrec"
      },
      "execution_count": null,
      "outputs": []
    },
    {
      "cell_type": "code",
      "source": [
        "# generate bins. adding additional bin betwen all umbrella windows\n",
        "print('Generating bins ...')\n",
        "bin_center = []\n",
        "N_bins = 0\n",
        "# for each two umbrella location, add one in between\n",
        "for i in range(0,len(restraint_k)-1):\n",
        "    bin_center.append(restraint_k[i])\n",
        "    bin_center.append(restraint_k[i] + (restraint_k[i+1] - restraint_k[i])/2 )\n",
        "    N_bins += 1\n",
        "bin_center.append(restraint_k[-1])\n",
        "bin_center=np.array(bin_center)\n",
        "print(f'total number of bins: {N_bins}')"
      ],
      "metadata": {
        "id": "zC0bdDVOsLcf"
      },
      "execution_count": null,
      "outputs": []
    },
    {
      "cell_type": "code",
      "source": [
        "# plot the bin centers\n",
        "color=['red', 'blue']*(K-1)\n",
        "print(len(color))\n",
        "fig = px.scatter_3d(x=list(bin_center[:, [0]].flatten()),y=list(bin_center[:, [1]].flatten()), z=list(bin_center[:, [2]].flatten()), size=[0.5]*len(bin_center), color=color + ['red'])\n",
        "              #color='species')\n",
        "fig.show()"
      ],
      "metadata": {
        "id": "g_2OjcnLsMye"
      },
      "execution_count": null,
      "outputs": []
    },
    {
      "cell_type": "code",
      "source": [
        "# now bin the data to each bin\n",
        "print(\"Binning data...\")\n",
        "# Bin data\n",
        "\n",
        "for k in range(K): # for each window\n",
        "    # initialize distance_m, which contains the distance from each frame to each bin center \n",
        "    distance_m = np.zeros([N_bins,number_of_frames], np.float32)\n",
        "    for bin in range(N_bins): # iterate through bins and  calculate the distance for each frame from simulation K to each bin center\n",
        "        distance_m[bin] = np.linalg.norm(com_for_all_frames[k]- bin_center[bin],  axis=1)\n",
        "    # obtain the index for each minimum value along each column (representing the distance for a single fraem to each bin) \n",
        "    bin_kn[k] = distance_m.argmin(axis=0)\n"
      ],
      "metadata": {
        "id": "Wv51i6bUsPDs"
      },
      "execution_count": null,
      "outputs": []
    },
    {
      "cell_type": "code",
      "source": [
        "print(\"Evaluating reduced potential energies...\")\n",
        "temperature = 303.15 * unit.kelvin\n",
        "kB = unit.BOLTZMANN_CONSTANT_kB * unit.AVOGADRO_CONSTANT_NA\n",
        "kT = kB * temperature\n",
        "f_k = 1 * unit.kilocalories_per_mole / unit.angstrom**2\n",
        "\n",
        "# for each windows\n",
        "for k in range(K):\n",
        "    # for each window\n",
        "    for l in range(K):   \n",
        "        # Compute energy of snapshot n from simulation k in umbrella potential l\n",
        "        u_kln[k,l] = (((np.linalg.norm(com_for_all_frames[k] - restraint_k[l])) * unit.angstrom **2 ) * f_k) / kT  \n",
        "print('Finished.')"
      ],
      "metadata": {
        "id": "KqY-UhopsQtU"
      },
      "execution_count": null,
      "outputs": []
    },
    {
      "cell_type": "code",
      "source": [
        "import pymbar\n",
        "# Initialize MBAR.\n",
        "print(\"Running MBAR...\")\n",
        "mbar = pymbar.MBAR(u_kln, N_k, verbose = True, initialize='BAR')\n",
        "u_kn = np.zeros([K, number_of_frames]) # u_kn[k,n] is the reduced potential energy without umbrella restraints of snapshot n of umbrella simulation k\n",
        "# Compute PMF in unbiased potential (in units of kT).\n",
        "results = mbar.computePMF(u_kn, bin_kn, N_bins, return_dict=True)"
      ],
      "metadata": {
        "id": "NW5Cwt37sUDW"
      },
      "execution_count": null,
      "outputs": []
    },
    {
      "cell_type": "code",
      "source": [
        "# Write out PMF\n",
        "f_i = results['f_i']\n",
        "df_i = results['df_i']\n",
        "print(\"PMF (in units of kT)\")\n",
        "print(\"%8s %8s %8s\" % ('bin', 'f', 'df'))\n",
        "for i in range(N_bins):\n",
        "    print(\"%8.1f %8.3f %8.3f\" % (i, f_i[i], df_i[i]))\n"
      ],
      "metadata": {
        "id": "kj2E19C82zdC"
      },
      "execution_count": null,
      "outputs": []
    },
    {
      "cell_type": "code",
      "source": [
        "import matplotlib.pyplot as plt\n",
        "plt.plot(f_i)\n",
        "plt.xlabel('distance [A]')\n",
        "plt.ylabel('Relativ free energy [kT]')\n",
        "plt.plot()\n"
      ],
      "metadata": {
        "id": "pCsTO2g32PTT"
      },
      "execution_count": null,
      "outputs": []
    }
  ]
}