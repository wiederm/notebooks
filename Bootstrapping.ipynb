{
  "nbformat": 4,
  "nbformat_minor": 0,
  "metadata": {
    "colab": {
      "provenance": [],
      "authorship_tag": "ABX9TyMsg2gBgBOqvzCU19h2CQfT",
      "include_colab_link": true
    },
    "kernelspec": {
      "name": "python3",
      "display_name": "Python 3"
    },
    "language_info": {
      "name": "python"
    }
  },
  "cells": [
    {
      "cell_type": "markdown",
      "metadata": {
        "id": "view-in-github",
        "colab_type": "text"
      },
      "source": [
        "<a href=\"https://colab.research.google.com/github/wiederm/notebooks/blob/main/Bootstrapping.ipynb\" target=\"_parent\"><img src=\"https://colab.research.google.com/assets/colab-badge.svg\" alt=\"Open In Colab\"/></a>"
      ]
    },
    {
      "cell_type": "code",
      "execution_count": null,
      "metadata": {
        "colab": {
          "base_uri": "https://localhost:8080/"
        },
        "id": "ZsgQxTc65zgR",
        "outputId": "19e8d0ff-1ca7-42d3-a472-e9f80585d44c"
      },
      "outputs": [
        {
          "output_type": "stream",
          "name": "stdout",
          "text": [
            "⏬ Downloading https://github.com/jaimergp/miniforge/releases/latest/download/Mambaforge-colab-Linux-x86_64.sh...\n",
            "📦 Installing...\n",
            "📌 Adjusting configuration...\n",
            "🩹 Patching environment...\n",
            "⏲ Done in 0:00:55\n",
            "🔁 Restarting kernel...\n"
          ]
        }
      ],
      "source": [
        "!pip install -q condacolab\n",
        "import condacolab\n",
        "condacolab.install()"
      ]
    },
    {
      "cell_type": "code",
      "source": [
        "# check that everything works\n",
        "import condacolab\n",
        "condacolab.check()"
      ],
      "metadata": {
        "colab": {
          "base_uri": "https://localhost:8080/"
        },
        "id": "HF3DCxe450M5",
        "outputId": "4de48670-d8fd-4717-f8b5-be170c6c1cfa"
      },
      "execution_count": null,
      "outputs": [
        {
          "output_type": "stream",
          "name": "stdout",
          "text": [
            "✨🍰✨ Everything looks OK!\n"
          ]
        }
      ]
    },
    {
      "cell_type": "code",
      "source": [
        "import numpy as np\n",
        "import matplotlib.pyplot as plt\n",
        "from sklearn.metrics import mean_absolute_error, mean_squared_error"
      ],
      "metadata": {
        "id": "t11snvpY52J5"
      },
      "execution_count": null,
      "outputs": []
    },
    {
      "cell_type": "code",
      "source": [
        "# define experimental and calculated values\n",
        "# draw from normal distribution\n",
        "x_mu, x_sigma = 10.0, 1.5\n",
        "x_values = np.random.normal(x_mu, x_sigma, 1000)\n",
        "\n",
        "y_mu, y_sigma = 11.0, 1.5\n",
        "y_values = np.random.normal(y_mu, y_sigma, 1000)"
      ],
      "metadata": {
        "id": "ypofQzRb5_Kn"
      },
      "execution_count": null,
      "outputs": []
    },
    {
      "cell_type": "code",
      "source": [
        "plt.hist(x_values, alpha=0.5)\n",
        "plt.hist(y_values, alpha=0.5)\n",
        "plt.show()"
      ],
      "metadata": {
        "colab": {
          "base_uri": "https://localhost:8080/",
          "height": 265
        },
        "id": "NmvckjqTAPvo",
        "outputId": "3dd66f17-20fc-41ea-b841-6439717eaba3"
      },
      "execution_count": null,
      "outputs": [
        {
          "output_type": "display_data",
          "data": {
            "text/plain": [
              "<Figure size 432x288 with 1 Axes>"
            ],
            "image/png": "[encoded data removed]"
          },
          "metadata": {
            "needs_background": "light"
          }
        }
      ]
    },
    {
      "cell_type": "code",
      "source": [
        "# bootstrap metric\n",
        "def bootstrap_metric(fct, x_values, y_values):\n",
        "    assert callable(fct) == True\n",
        "    bootstrapped_metric = []\n",
        "    # bootstrap metric to generate test distribution\n",
        "    for _ in range(1000):\n",
        "        indices = np.random.choice(range(0, len(x_values)), size=len(x_values), replace=True)\n",
        "        x_selection = np.take(x_values, indices)\n",
        "        y_selection = np.take(y_values, indices)\n",
        "        r = fct(x_selection, y_selection)\n",
        "        bootstrapped_metric.append(r)\n",
        "\n",
        "    # define 90% CI\n",
        "    alpha = 10.0\n",
        "    lower_p = alpha / 2.0\n",
        "    # get value at or near percentile (take a look at the definition of percentile if\n",
        "    # you have less than 100 values to make sure you understand what is happening)\n",
        "    lower = np.percentile(bootstrapped_metric, lower_p)\n",
        "    upper_p = (100 - alpha) + (alpha / 2.0)\n",
        "    upper = np.percentile(bootstrapped_metric, upper_p)\n",
        "    # calculate true mean\n",
        "    mean = fct(x_values, y_values)\n",
        "\n",
        "    return mean, lower, upper\n",
        "\n",
        "# bootstrap MAE\n",
        "mean, lower, upper = bootstrap_metric(mean_absolute_error, x_values, y_values)\n",
        "print(f'MAE:  {round(mean, 2):.2f} [{round(lower,2):.2f}, {round(upper,2):.2f}]')\n",
        "\n",
        "# bootstrap RMSE\n",
        "def calc_rmse(x_values, y_values):\n",
        "    from sklearn.metrics import mean_squared_error\n",
        "    return np.sqrt(mean_squared_error(x_values, y_values))\n",
        "mean, lower, upper = bootstrap_metric(calc_rmse, x_values, y_values)\n",
        "print(f'RMSE:  {round(mean, 2):.2f} [{round(lower,2):.2f}, {round(upper,2):.2f}]')\n",
        "\n"
      ],
      "metadata": {
        "colab": {
          "base_uri": "https://localhost:8080/"
        },
        "id": "lbwQ4hg46xUE",
        "outputId": "56925f80-1a6b-460c-9155-9dc643260c57"
      },
      "execution_count": null,
      "outputs": [
        {
          "output_type": "stream",
          "name": "stdout",
          "text": [
            "MAE:  1.84 [1.77, 1.92]\n",
            "RMSE:  2.35 [2.26, 2.44]\n"
          ]
        }
      ]
    }
  ]
}